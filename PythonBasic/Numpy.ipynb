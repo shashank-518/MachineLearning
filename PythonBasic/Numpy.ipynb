{
 "cells": [
  {
   "cell_type": "code",
   "execution_count": 1,
   "id": "79f78fc2-1240-4554-911b-e02172189e76",
   "metadata": {},
   "outputs": [],
   "source": [
    "import numpy as np"
   ]
  },
  {
   "cell_type": "code",
   "execution_count": 4,
   "id": "dcf1ca37-1d19-4ce5-a2cf-4ed63401fdbf",
   "metadata": {},
   "outputs": [
    {
     "data": {
      "text/plain": [
       "'1.26.4'"
      ]
     },
     "execution_count": 4,
     "metadata": {},
     "output_type": "execute_result"
    }
   ],
   "source": [
    "np.__version__"
   ]
  },
  {
   "cell_type": "code",
   "execution_count": 5,
   "id": "16c84ed6-5eb4-41e8-ad22-bcc7e918a6a2",
   "metadata": {},
   "outputs": [],
   "source": [
    "arr = [1,2,3,4,5]"
   ]
  },
  {
   "cell_type": "code",
   "execution_count": 6,
   "id": "9ba32978-1b06-466c-a178-192397bb66b7",
   "metadata": {},
   "outputs": [
    {
     "data": {
      "text/plain": [
       "list"
      ]
     },
     "execution_count": 6,
     "metadata": {},
     "output_type": "execute_result"
    }
   ],
   "source": [
    "type(arr)"
   ]
  },
  {
   "cell_type": "code",
   "execution_count": 7,
   "id": "b93dcdf9-2273-44dd-9030-67352dd765f2",
   "metadata": {},
   "outputs": [],
   "source": [
    "my_arr = np.array(arr)"
   ]
  },
  {
   "cell_type": "code",
   "execution_count": 8,
   "id": "a91359ed-9f27-45b9-a268-46471c3e6dfd",
   "metadata": {},
   "outputs": [
    {
     "data": {
      "text/plain": [
       "numpy.ndarray"
      ]
     },
     "execution_count": 8,
     "metadata": {},
     "output_type": "execute_result"
    }
   ],
   "source": [
    "type(my_arr)"
   ]
  },
  {
   "cell_type": "code",
   "execution_count": 9,
   "id": "9cfe7378-4daf-4af9-bdc5-ab6b9f79877e",
   "metadata": {},
   "outputs": [
    {
     "data": {
      "text/plain": [
       "array([1, 2, 3, 4, 5])"
      ]
     },
     "execution_count": 9,
     "metadata": {},
     "output_type": "execute_result"
    }
   ],
   "source": [
    "my_arr"
   ]
  },
  {
   "cell_type": "code",
   "execution_count": 11,
   "id": "dc7c0b6a-28df-4bdf-b685-2510e2b253cc",
   "metadata": {},
   "outputs": [
    {
     "data": {
      "text/plain": [
       "(5,)"
      ]
     },
     "execution_count": 11,
     "metadata": {},
     "output_type": "execute_result"
    }
   ],
   "source": [
    "my_arr.shape"
   ]
  },
  {
   "cell_type": "code",
   "execution_count": 19,
   "id": "c4d42a72-85e6-4492-b6cb-54a9aeb2c82c",
   "metadata": {},
   "outputs": [],
   "source": [
    "arr_1 = [1,2,3,7,5]\n",
    "arr_2 = [4,5,6,5,6]\n",
    "arr_3 = [7,8,9,4,5]\n",
    "\n",
    "new_arr = [arr_1,arr_2,arr_3]"
   ]
  },
  {
   "cell_type": "code",
   "execution_count": 20,
   "id": "698ff656-2676-4040-a93f-35d7ba008f04",
   "metadata": {},
   "outputs": [],
   "source": [
    "new_arr = np.array(new_arr)"
   ]
  },
  {
   "cell_type": "code",
   "execution_count": 21,
   "id": "123b64a4-93b5-4a6e-965d-1aa102437996",
   "metadata": {},
   "outputs": [
    {
     "data": {
      "text/plain": [
       "(3, 5)"
      ]
     },
     "execution_count": 21,
     "metadata": {},
     "output_type": "execute_result"
    }
   ],
   "source": [
    "new_arr.shape"
   ]
  },
  {
   "cell_type": "code",
   "execution_count": 22,
   "id": "79adbbb4-0613-417d-bdef-e33797518971",
   "metadata": {},
   "outputs": [
    {
     "data": {
      "text/plain": [
       "array([[1, 2, 3],\n",
       "       [7, 5, 4],\n",
       "       [5, 6, 5],\n",
       "       [6, 7, 8],\n",
       "       [9, 4, 5]])"
      ]
     },
     "execution_count": 22,
     "metadata": {},
     "output_type": "execute_result"
    }
   ],
   "source": [
    "new_arr.reshape(5,3)"
   ]
  },
  {
   "cell_type": "code",
   "execution_count": 24,
   "id": "16e252de-5629-4623-b352-4122244a0c80",
   "metadata": {},
   "outputs": [],
   "source": [
    "arr_5 = np.array([[1,2,3,4,5],[7,6,5,4,3] , [5,4,2,5,7]])"
   ]
  },
  {
   "cell_type": "code",
   "execution_count": 25,
   "id": "f56b0058-91b5-4ade-b8f1-eb6fd2f48705",
   "metadata": {},
   "outputs": [
    {
     "data": {
      "text/plain": [
       "array([[1, 2, 3, 4, 5],\n",
       "       [7, 6, 5, 4, 3],\n",
       "       [5, 4, 2, 5, 7]])"
      ]
     },
     "execution_count": 25,
     "metadata": {},
     "output_type": "execute_result"
    }
   ],
   "source": [
    "arr_5"
   ]
  },
  {
   "cell_type": "code",
   "execution_count": 28,
   "id": "a14e2551-55ac-4802-bdfc-e6802cc04aa8",
   "metadata": {},
   "outputs": [
    {
     "data": {
      "text/plain": [
       "array([[1, 2, 3],\n",
       "       [7, 6, 5]])"
      ]
     },
     "execution_count": 28,
     "metadata": {},
     "output_type": "execute_result"
    }
   ],
   "source": [
    "arr_5[0:2,0:3]"
   ]
  },
  {
   "cell_type": "code",
   "execution_count": 29,
   "id": "9e87d8d1-55ee-4a14-acb2-faea718a0c10",
   "metadata": {},
   "outputs": [
    {
     "data": {
      "text/plain": [
       "array([[4, 3],\n",
       "       [5, 7]])"
      ]
     },
     "execution_count": 29,
     "metadata": {},
     "output_type": "execute_result"
    }
   ],
   "source": [
    "arr_5[1:3,3:5]"
   ]
  },
  {
   "cell_type": "code",
   "execution_count": 30,
   "id": "0ceab206-251b-4b18-8cd8-d5e7e3452db6",
   "metadata": {},
   "outputs": [
    {
     "data": {
      "text/plain": [
       "array([[5, 4],\n",
       "       [2, 5]])"
      ]
     },
     "execution_count": 30,
     "metadata": {},
     "output_type": "execute_result"
    }
   ],
   "source": [
    "arr_5[1:,2:4]"
   ]
  },
  {
   "cell_type": "code",
   "execution_count": 34,
   "id": "f9ab1db8-1d96-4fbd-b73a-d0482c6cc422",
   "metadata": {},
   "outputs": [
    {
     "data": {
      "text/plain": [
       "array([[4, 2, 5]])"
      ]
     },
     "execution_count": 34,
     "metadata": {},
     "output_type": "execute_result"
    }
   ],
   "source": [
    "arr_5[2:3,1:4]"
   ]
  },
  {
   "cell_type": "code",
   "execution_count": 36,
   "id": "5883eb5c-cfcd-43c9-8ddd-f91109b31ca0",
   "metadata": {},
   "outputs": [],
   "source": [
    "arr = np.arange(0,10,2)"
   ]
  },
  {
   "cell_type": "code",
   "execution_count": 37,
   "id": "a92e5c90-9e94-40dd-82b4-4933d6644a54",
   "metadata": {},
   "outputs": [
    {
     "data": {
      "text/plain": [
       "array([0, 2, 4, 6, 8])"
      ]
     },
     "execution_count": 37,
     "metadata": {},
     "output_type": "execute_result"
    }
   ],
   "source": [
    "arr"
   ]
  },
  {
   "cell_type": "code",
   "execution_count": 38,
   "id": "9a758d71-4ab7-4ffc-ac6a-a1a46bb5dc4b",
   "metadata": {},
   "outputs": [
    {
     "data": {
      "text/plain": [
       "array([ 1.        ,  1.18367347,  1.36734694,  1.55102041,  1.73469388,\n",
       "        1.91836735,  2.10204082,  2.28571429,  2.46938776,  2.65306122,\n",
       "        2.83673469,  3.02040816,  3.20408163,  3.3877551 ,  3.57142857,\n",
       "        3.75510204,  3.93877551,  4.12244898,  4.30612245,  4.48979592,\n",
       "        4.67346939,  4.85714286,  5.04081633,  5.2244898 ,  5.40816327,\n",
       "        5.59183673,  5.7755102 ,  5.95918367,  6.14285714,  6.32653061,\n",
       "        6.51020408,  6.69387755,  6.87755102,  7.06122449,  7.24489796,\n",
       "        7.42857143,  7.6122449 ,  7.79591837,  7.97959184,  8.16326531,\n",
       "        8.34693878,  8.53061224,  8.71428571,  8.89795918,  9.08163265,\n",
       "        9.26530612,  9.44897959,  9.63265306,  9.81632653, 10.        ])"
      ]
     },
     "execution_count": 38,
     "metadata": {},
     "output_type": "execute_result"
    }
   ],
   "source": [
    "np.linspace(1,10,50)"
   ]
  },
  {
   "cell_type": "code",
   "execution_count": 40,
   "id": "e13c205f-85b3-4890-85f8-4cf073c2fd40",
   "metadata": {},
   "outputs": [],
   "source": [
    "arr1 = np.array([1,2,3,4,5,6])"
   ]
  },
  {
   "cell_type": "code",
   "execution_count": 41,
   "id": "17efda28-ccad-41ca-94bd-83f57fef6f96",
   "metadata": {},
   "outputs": [
    {
     "data": {
      "text/plain": [
       "array([1, 2, 3, 4, 5, 6])"
      ]
     },
     "execution_count": 41,
     "metadata": {},
     "output_type": "execute_result"
    }
   ],
   "source": [
    "arr1"
   ]
  },
  {
   "cell_type": "code",
   "execution_count": 42,
   "id": "8cc413d8-ac0b-4592-a9e0-1454050ac050",
   "metadata": {},
   "outputs": [],
   "source": [
    "arr1[3:] = 100"
   ]
  },
  {
   "cell_type": "code",
   "execution_count": 43,
   "id": "349a3de0-ac3b-43bc-b2be-d934005cf41d",
   "metadata": {},
   "outputs": [
    {
     "data": {
      "text/plain": [
       "array([  1,   2,   3, 100, 100, 100])"
      ]
     },
     "execution_count": 43,
     "metadata": {},
     "output_type": "execute_result"
    }
   ],
   "source": [
    "arr1"
   ]
  },
  {
   "cell_type": "code",
   "execution_count": 44,
   "id": "8e35ede4-820d-4714-8411-5edb46d397b6",
   "metadata": {},
   "outputs": [
    {
     "data": {
      "text/plain": [
       "array([  1,   2,   3, 500, 500, 500])"
      ]
     },
     "execution_count": 44,
     "metadata": {},
     "output_type": "execute_result"
    }
   ],
   "source": [
    "arr2 = arr1\n",
    "arr2[3:] = 500\n",
    "arr2"
   ]
  },
  {
   "cell_type": "code",
   "execution_count": 45,
   "id": "4c55c7a2-a4f7-4bf8-b8e4-2974fa2b4f06",
   "metadata": {},
   "outputs": [
    {
     "data": {
      "text/plain": [
       "array([  1,   2,   3, 500, 500, 500])"
      ]
     },
     "execution_count": 45,
     "metadata": {},
     "output_type": "execute_result"
    }
   ],
   "source": [
    "arr1"
   ]
  },
  {
   "cell_type": "code",
   "execution_count": 46,
   "id": "36524c1c-59be-4ad6-bc5a-3fdc149273a1",
   "metadata": {},
   "outputs": [],
   "source": [
    "arr3 = arr1.copy()"
   ]
  },
  {
   "cell_type": "code",
   "execution_count": 47,
   "id": "2299733f-8c41-4676-abf5-643a6d2f43db",
   "metadata": {},
   "outputs": [
    {
     "data": {
      "text/plain": [
       "array([  1,   2,   3, 600, 600, 600])"
      ]
     },
     "execution_count": 47,
     "metadata": {},
     "output_type": "execute_result"
    }
   ],
   "source": [
    "arr3[3:] = 600\n",
    "arr3"
   ]
  },
  {
   "cell_type": "code",
   "execution_count": 48,
   "id": "fc4e8b48-de04-43fc-9572-66be0ca9f288",
   "metadata": {},
   "outputs": [
    {
     "data": {
      "text/plain": [
       "array([  1,   2,   3, 500, 500, 500])"
      ]
     },
     "execution_count": 48,
     "metadata": {},
     "output_type": "execute_result"
    }
   ],
   "source": [
    "arr1"
   ]
  },
  {
   "cell_type": "code",
   "execution_count": 49,
   "id": "2c8d3363-f4e3-43f9-99c2-c24559de8d4e",
   "metadata": {},
   "outputs": [
    {
     "data": {
      "text/plain": [
       "array([1., 1., 1., 1.])"
      ]
     },
     "execution_count": 49,
     "metadata": {},
     "output_type": "execute_result"
    }
   ],
   "source": [
    "np.ones(4)"
   ]
  },
  {
   "cell_type": "code",
   "execution_count": 50,
   "id": "b6f0fcc0-71ba-4368-b13d-66310d3c0599",
   "metadata": {},
   "outputs": [
    {
     "data": {
      "text/plain": [
       "array([1, 1, 1, 1])"
      ]
     },
     "execution_count": 50,
     "metadata": {},
     "output_type": "execute_result"
    }
   ],
   "source": [
    "np.ones(4, dtype=int)"
   ]
  },
  {
   "cell_type": "code",
   "execution_count": 51,
   "id": "ff929a1f-8b7c-4caa-b3f8-ffa12e1923bb",
   "metadata": {},
   "outputs": [
    {
     "data": {
      "text/plain": [
       "array([[1, 1, 1, 1],\n",
       "       [1, 1, 1, 1],\n",
       "       [1, 1, 1, 1]])"
      ]
     },
     "execution_count": 51,
     "metadata": {},
     "output_type": "execute_result"
    }
   ],
   "source": [
    "np.ones((3,4), dtype=int)"
   ]
  },
  {
   "cell_type": "code",
   "execution_count": 52,
   "id": "b6a45a9a-f990-428b-83c1-4191d87ee25f",
   "metadata": {},
   "outputs": [
    {
     "data": {
      "text/plain": [
       "array([[-0.13431736,  1.23824426,  2.69828026, -0.35191091],\n",
       "       [ 0.43989977, -1.36990474, -0.99049423, -1.26463013],\n",
       "       [-0.3675847 , -1.50583156,  1.17627917, -0.28399173],\n",
       "       [ 0.84476866, -1.20403871, -0.37686031, -0.27372063]])"
      ]
     },
     "execution_count": 52,
     "metadata": {},
     "output_type": "execute_result"
    }
   ],
   "source": [
    "np.random.randn(4,4)"
   ]
  },
  {
   "cell_type": "code",
   "execution_count": 54,
   "id": "16434555-066e-4897-93af-20c40d1d0740",
   "metadata": {},
   "outputs": [
    {
     "ename": "ValueError",
     "evalue": "cannot reshape array of size 8 into shape (4,3)",
     "output_type": "error",
     "traceback": [
      "\u001b[1;31m---------------------------------------------------------------------------\u001b[0m",
      "\u001b[1;31mValueError\u001b[0m                                Traceback (most recent call last)",
      "Cell \u001b[1;32mIn[54], line 1\u001b[0m\n\u001b[1;32m----> 1\u001b[0m np\u001b[38;5;241m.\u001b[39mrandom\u001b[38;5;241m.\u001b[39mrandint(\u001b[38;5;241m0\u001b[39m,\u001b[38;5;241m100\u001b[39m,\u001b[38;5;241m8\u001b[39m)\u001b[38;5;241m.\u001b[39mreshape(\u001b[38;5;241m4\u001b[39m,\u001b[38;5;241m3\u001b[39m)\n",
      "\u001b[1;31mValueError\u001b[0m: cannot reshape array of size 8 into shape (4,3)"
     ]
    }
   ],
   "source": [
    "np.random.randint(0,100,8).reshape(4,3)"
   ]
  },
  {
   "cell_type": "code",
   "execution_count": null,
   "id": "08aa0ee6-10a0-4f6e-aceb-017cd32f4322",
   "metadata": {},
   "outputs": [],
   "source": []
  }
 ],
 "metadata": {
  "kernelspec": {
   "display_name": "Python 3 (ipykernel)",
   "language": "python",
   "name": "python3"
  },
  "language_info": {
   "codemirror_mode": {
    "name": "ipython",
    "version": 3
   },
   "file_extension": ".py",
   "mimetype": "text/x-python",
   "name": "python",
   "nbconvert_exporter": "python",
   "pygments_lexer": "ipython3",
   "version": "3.12.7"
  }
 },
 "nbformat": 4,
 "nbformat_minor": 5
}
