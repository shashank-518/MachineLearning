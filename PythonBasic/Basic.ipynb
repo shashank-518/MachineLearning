{
 "cells": [
  {
   "cell_type": "code",
   "execution_count": 1,
   "id": "08cd5b69-5318-4a08-b651-893fedaf56f3",
   "metadata": {},
   "outputs": [
    {
     "data": {
      "text/plain": [
       "2"
      ]
     },
     "execution_count": 1,
     "metadata": {},
     "output_type": "execute_result"
    }
   ],
   "source": [
    "1+1"
   ]
  },
  {
   "cell_type": "code",
   "execution_count": 2,
   "id": "8289d734-d712-4b97-b791-3c591ef06f4f",
   "metadata": {},
   "outputs": [
    {
     "data": {
      "text/plain": [
       "4"
      ]
     },
     "execution_count": 2,
     "metadata": {},
     "output_type": "execute_result"
    }
   ],
   "source": [
    "2*2"
   ]
  },
  {
   "cell_type": "code",
   "execution_count": 3,
   "id": "7e93a390-87d6-4fe6-ad81-64bfa6a4c017",
   "metadata": {},
   "outputs": [
    {
     "data": {
      "text/plain": [
       "1.0"
      ]
     },
     "execution_count": 3,
     "metadata": {},
     "output_type": "execute_result"
    }
   ],
   "source": [
    "2/2"
   ]
  },
  {
   "cell_type": "code",
   "execution_count": 4,
   "id": "89d9d526-9120-44c2-8563-01440bdd7163",
   "metadata": {},
   "outputs": [
    {
     "data": {
      "text/plain": [
       "0"
      ]
     },
     "execution_count": 4,
     "metadata": {},
     "output_type": "execute_result"
    }
   ],
   "source": [
    "10%2"
   ]
  },
  {
   "cell_type": "code",
   "execution_count": 5,
   "id": "d7b93f0c-5eff-4045-bc2b-5c9c5aa34d36",
   "metadata": {},
   "outputs": [
    {
     "data": {
      "text/plain": [
       "100"
      ]
     },
     "execution_count": 5,
     "metadata": {},
     "output_type": "execute_result"
    }
   ],
   "source": [
    "10**2"
   ]
  },
  {
   "cell_type": "code",
   "execution_count": 6,
   "id": "cdf388af-6554-4415-951d-13866f7f04b0",
   "metadata": {},
   "outputs": [
    {
     "data": {
      "text/plain": [
       "'strstrstrstrstrstrstrstrstrstr'"
      ]
     },
     "execution_count": 6,
     "metadata": {},
     "output_type": "execute_result"
    }
   ],
   "source": [
    "10*'str'"
   ]
  },
  {
   "cell_type": "code",
   "execution_count": 7,
   "id": "8ed97cdb-33f7-41b5-8be0-20b837e79d0e",
   "metadata": {},
   "outputs": [
    {
     "data": {
      "text/plain": [
       "int"
      ]
     },
     "execution_count": 7,
     "metadata": {},
     "output_type": "execute_result"
    }
   ],
   "source": [
    "type(1)"
   ]
  },
  {
   "cell_type": "code",
   "execution_count": 9,
   "id": "6120cd8c-a8fe-4c53-9ac2-7e24466bf626",
   "metadata": {},
   "outputs": [
    {
     "data": {
      "text/plain": [
       "bool"
      ]
     },
     "execution_count": 9,
     "metadata": {},
     "output_type": "execute_result"
    }
   ],
   "source": [
    "type(True)"
   ]
  },
  {
   "cell_type": "code",
   "execution_count": 10,
   "id": "8ebcf231-ba7b-443f-ab9e-9d93c361ecc3",
   "metadata": {},
   "outputs": [
    {
     "data": {
      "text/plain": [
       "str"
      ]
     },
     "execution_count": 10,
     "metadata": {},
     "output_type": "execute_result"
    }
   ],
   "source": [
    "type('hello')"
   ]
  },
  {
   "cell_type": "code",
   "execution_count": 13,
   "id": "33a2c3a0-9db9-49a0-8835-1dd6c0382bf0",
   "metadata": {},
   "outputs": [
    {
     "name": "stdout",
     "output_type": "stream",
     "text": [
      "My first name is Shashank and last name is Kharvi\n"
     ]
    }
   ],
   "source": [
    "first_name = \"Shashank\"\n",
    "last_name = \"Kharvi\"\n",
    "\n",
    "print(\"My first name is {} and last name is {}\".format(first_name,last_name))"
   ]
  },
  {
   "cell_type": "code",
   "execution_count": 14,
   "id": "1c4abc42-a009-4d13-a1b3-890a233f7ca4",
   "metadata": {},
   "outputs": [
    {
     "data": {
      "text/plain": [
       "8"
      ]
     },
     "execution_count": 14,
     "metadata": {},
     "output_type": "execute_result"
    }
   ],
   "source": [
    "len(\"Shashank\")"
   ]
  },
  {
   "cell_type": "code",
   "execution_count": 15,
   "id": "27c9e194-1457-4668-be05-bece46d8eb93",
   "metadata": {},
   "outputs": [
    {
     "data": {
      "text/plain": [
       "'Shashank'"
      ]
     },
     "execution_count": 15,
     "metadata": {},
     "output_type": "execute_result"
    }
   ],
   "source": [
    "my_str = \"Shashank\"\n",
    "my_str.capitalize()"
   ]
  },
  {
   "cell_type": "code",
   "execution_count": 16,
   "id": "37fabd19-649f-4f76-a8e8-bb3ee9c4cdcd",
   "metadata": {},
   "outputs": [
    {
     "data": {
      "text/plain": [
       "True"
      ]
     },
     "execution_count": 16,
     "metadata": {},
     "output_type": "execute_result"
    }
   ],
   "source": [
    "my_str.isalpha()"
   ]
  },
  {
   "cell_type": "code",
   "execution_count": 17,
   "id": "be63b1f8-efa1-4c30-b265-e14255a47804",
   "metadata": {},
   "outputs": [
    {
     "data": {
      "text/plain": [
       "True"
      ]
     },
     "execution_count": 17,
     "metadata": {},
     "output_type": "execute_result"
    }
   ],
   "source": [
    "my_str.isalnum()"
   ]
  },
  {
   "cell_type": "code",
   "execution_count": 18,
   "id": "d3837d6b-71bb-4512-a3e9-67159574e1e5",
   "metadata": {},
   "outputs": [
    {
     "data": {
      "text/plain": [
       "True"
      ]
     },
     "execution_count": 18,
     "metadata": {},
     "output_type": "execute_result"
    }
   ],
   "source": [
    "True or False"
   ]
  },
  {
   "cell_type": "code",
   "execution_count": 19,
   "id": "b8a168d8-e7fd-407e-bc3b-1e2c4220f29f",
   "metadata": {},
   "outputs": [
    {
     "data": {
      "text/plain": [
       "True"
      ]
     },
     "execution_count": 19,
     "metadata": {},
     "output_type": "execute_result"
    }
   ],
   "source": [
    "False or True"
   ]
  },
  {
   "cell_type": "code",
   "execution_count": 20,
   "id": "5fa83dff-3dc5-41a5-aa8f-3bd1fd53edba",
   "metadata": {},
   "outputs": [
    {
     "data": {
      "text/plain": [
       "list"
      ]
     },
     "execution_count": 20,
     "metadata": {},
     "output_type": "execute_result"
    }
   ],
   "source": [
    "lis = []\n",
    "type(lis)"
   ]
  },
  {
   "cell_type": "code",
   "execution_count": 21,
   "id": "d64e748a-8e95-467c-bd1f-6325ae4ea914",
   "metadata": {},
   "outputs": [],
   "source": [
    "lis = ['Chemistry' , 'APPLE' , 89,90,40]"
   ]
  },
  {
   "cell_type": "code",
   "execution_count": 22,
   "id": "b4028f96-e755-41f0-9a36-52ae2005e104",
   "metadata": {},
   "outputs": [
    {
     "data": {
      "text/plain": [
       "5"
      ]
     },
     "execution_count": 22,
     "metadata": {},
     "output_type": "execute_result"
    }
   ],
   "source": [
    "len(lis)"
   ]
  },
  {
   "cell_type": "code",
   "execution_count": 23,
   "id": "6a74eea8-4d61-4023-a637-66062a5497f5",
   "metadata": {},
   "outputs": [],
   "source": [
    "lis.append(\"shashank\")"
   ]
  },
  {
   "cell_type": "code",
   "execution_count": 24,
   "id": "d4e83a31-3b54-453d-9224-a424ed32f98d",
   "metadata": {},
   "outputs": [
    {
     "data": {
      "text/plain": [
       "['Chemistry', 'APPLE', 89, 90, 40, 'shashank']"
      ]
     },
     "execution_count": 24,
     "metadata": {},
     "output_type": "execute_result"
    }
   ],
   "source": [
    "lis"
   ]
  },
  {
   "cell_type": "code",
   "execution_count": 25,
   "id": "8838a64a-76ad-431e-89a9-522a6da07021",
   "metadata": {},
   "outputs": [
    {
     "data": {
      "text/plain": [
       "89"
      ]
     },
     "execution_count": 25,
     "metadata": {},
     "output_type": "execute_result"
    }
   ],
   "source": [
    "lis[2]"
   ]
  },
  {
   "cell_type": "code",
   "execution_count": 26,
   "id": "52da3bb7-5077-49d5-8a20-2f9511006a79",
   "metadata": {},
   "outputs": [
    {
     "data": {
      "text/plain": [
       "['Chemistry', 'APPLE', 89, 90, 40, 'shashank']"
      ]
     },
     "execution_count": 26,
     "metadata": {},
     "output_type": "execute_result"
    }
   ],
   "source": [
    "lis[:]"
   ]
  },
  {
   "cell_type": "code",
   "execution_count": 27,
   "id": "2cf7a563-e283-4107-8aac-d7346c469113",
   "metadata": {},
   "outputs": [
    {
     "data": {
      "text/plain": [
       "['Chemistry', 'APPLE', 89, 90, 40, 'shashank']"
      ]
     },
     "execution_count": 27,
     "metadata": {},
     "output_type": "execute_result"
    }
   ],
   "source": [
    "lis[0:]"
   ]
  },
  {
   "cell_type": "code",
   "execution_count": 28,
   "id": "9e508bb1-fe3c-4694-b440-71cb17acf9ea",
   "metadata": {},
   "outputs": [
    {
     "data": {
      "text/plain": [
       "['APPLE', 89, 90, 40]"
      ]
     },
     "execution_count": 28,
     "metadata": {},
     "output_type": "execute_result"
    }
   ],
   "source": [
    "lis[1:5]"
   ]
  },
  {
   "cell_type": "code",
   "execution_count": 30,
   "id": "1712c26b-0c04-455a-91bf-65c1a62e98db",
   "metadata": {},
   "outputs": [],
   "source": [
    "lis.insert(1,\"Shashu\")"
   ]
  },
  {
   "cell_type": "code",
   "execution_count": 31,
   "id": "198f09ba-5273-4bd9-9cfc-7842e40dea89",
   "metadata": {},
   "outputs": [
    {
     "data": {
      "text/plain": [
       "['Chemistry', 'Shashu', 'APPLE', 89, 90, 40, 'shashank']"
      ]
     },
     "execution_count": 31,
     "metadata": {},
     "output_type": "execute_result"
    }
   ],
   "source": [
    "lis"
   ]
  },
  {
   "cell_type": "code",
   "execution_count": 32,
   "id": "eb16f761-7759-4305-a0e1-41414cf7c87f",
   "metadata": {},
   "outputs": [
    {
     "data": {
      "text/plain": [
       "['Chemistry', 'Shashu', 'APPLE', 89, 90, 40, 'shashank', [5, 6, 7]]"
      ]
     },
     "execution_count": 32,
     "metadata": {},
     "output_type": "execute_result"
    }
   ],
   "source": [
    "lis.append([5,6,7])\n",
    "lis"
   ]
  },
  {
   "cell_type": "code",
   "execution_count": 35,
   "id": "a440ce29-b74c-4323-80dc-c7da3e38bc81",
   "metadata": {},
   "outputs": [
    {
     "data": {
      "text/plain": [
       "['Chemistry',\n",
       " 'Shashu',\n",
       " 'APPLE',\n",
       " 89,\n",
       " 90,\n",
       " ['shash', 9, 8],\n",
       " ['shash', 9, 8],\n",
       " 40,\n",
       " 'shashank',\n",
       " [5, 6, 7]]"
      ]
     },
     "execution_count": 35,
     "metadata": {},
     "output_type": "execute_result"
    }
   ],
   "source": [
    "lis.insert(5,[\"shash\" , 9, 8])\n",
    "lis"
   ]
  },
  {
   "cell_type": "code",
   "execution_count": 36,
   "id": "a59a6748-6780-41dc-96f2-9e17f5ace56a",
   "metadata": {},
   "outputs": [
    {
     "data": {
      "text/plain": [
       "[1, 2, 3, 4, 5, 6]"
      ]
     },
     "execution_count": 36,
     "metadata": {},
     "output_type": "execute_result"
    }
   ],
   "source": [
    "lis = [1,2,3,4,5,6]\n",
    "lis"
   ]
  },
  {
   "cell_type": "code",
   "execution_count": 37,
   "id": "c9fe0ae6-6527-458b-a6dc-41124e778d8d",
   "metadata": {},
   "outputs": [
    {
     "data": {
      "text/plain": [
       "[1, 2, 3, 4, 5, 6, 7, 8]"
      ]
     },
     "execution_count": 37,
     "metadata": {},
     "output_type": "execute_result"
    }
   ],
   "source": [
    "lis.extend([7,8])\n",
    "lis"
   ]
  },
  {
   "cell_type": "code",
   "execution_count": 38,
   "id": "7737238f-5975-46e4-800f-6f2b095e0dcd",
   "metadata": {},
   "outputs": [
    {
     "data": {
      "text/plain": [
       "36"
      ]
     },
     "execution_count": 38,
     "metadata": {},
     "output_type": "execute_result"
    }
   ],
   "source": [
    "sum(lis)"
   ]
  },
  {
   "cell_type": "code",
   "execution_count": null,
   "id": "d6ee5948-a973-4fd8-aee1-2be8ff2cbb44",
   "metadata": {},
   "outputs": [],
   "source": []
  }
 ],
 "metadata": {
  "kernelspec": {
   "display_name": "Python 3 (ipykernel)",
   "language": "python",
   "name": "python3"
  },
  "language_info": {
   "codemirror_mode": {
    "name": "ipython",
    "version": 3
   },
   "file_extension": ".py",
   "mimetype": "text/x-python",
   "name": "python",
   "nbconvert_exporter": "python",
   "pygments_lexer": "ipython3",
   "version": "3.12.7"
  }
 },
 "nbformat": 4,
 "nbformat_minor": 5
}
